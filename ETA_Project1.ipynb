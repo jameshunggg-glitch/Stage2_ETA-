{
 "cells": [
  {
   "cell_type": "markdown",
   "id": "ebd9c09c",
   "metadata": {},
   "source": [
    "## Data Preprocessing"
   ]
  },
  {
   "cell_type": "code",
   "execution_count": 2,
   "id": "837cf677",
   "metadata": {},
   "outputs": [],
   "source": [
    "import pandas as pd\n",
    "import matplotlib.pyplot as plt\n",
    "import seaborn as sns\n",
    "import folium\n",
    "#import movingpandas as mpd\n",
    "from shapely.geometry import Point\n",
    "import os"
   ]
  },
  {
   "cell_type": "code",
   "execution_count": 3,
   "id": "38682abb",
   "metadata": {},
   "outputs": [],
   "source": [
    "file_path = r\"C:\\Users\\slab\\Desktop\\Slab Project\\Stage2 ETA\\Raw Data\\477769500_VesselHistoryLineInfo.csv\"\n"
   ]
  },
  {
   "cell_type": "code",
   "execution_count": 4,
   "id": "c496eda0",
   "metadata": {},
   "outputs": [],
   "source": [
    "try:\n",
    "    df\n",
    "except NameError:\n",
    "    df = pd.read_csv(file_path, low_memory=False)\n",
    "df = pd.read_csv(file_path, low_memory=False)"
   ]
  },
  {
   "cell_type": "code",
   "execution_count": 5,
   "id": "6c0ba038",
   "metadata": {},
   "outputs": [
    {
     "name": "stdout",
     "output_type": "stream",
     "text": [
      "264586\n",
      "      Pky      IMO       MMSI CallSign  FacNumber ShipName_CH ShipName_ENG  \\\n",
      "0  378737  9322736  477769500  VRPK2@@        NaN         豐順輪    FENG SHUN   \n",
      "1  378738  9322736  477769500  VRPK2@@        NaN         豐順輪    FENG SHUN   \n",
      "2  378741  9322736  477769500  VRPK2@@        NaN         豐順輪    FENG SHUN   \n",
      "3  378742  9322736  477769500  VRPK2@@        NaN         豐順輪    FENG SHUN   \n",
      "4  378744  9322736  477769500  VRPK2@@        NaN         豐順輪    FENG SHUN   \n",
      "\n",
      "   VesselLine VesselType  VesselSeries  ...  IsDel           CreateTime  \\\n",
      "0         NaN        散裝輪           NaN  ...      1  2025/09/15 11:40:19   \n",
      "1         NaN        散裝輪           NaN  ...      1  2025/09/15 11:42:19   \n",
      "2         NaN        散裝輪           NaN  ...      1  2025/09/15 11:48:19   \n",
      "3         NaN        散裝輪           NaN  ...      1  2025/09/15 11:50:19   \n",
      "4         NaN        散裝輪           NaN  ...      1  2025/09/15 11:54:19   \n",
      "\n",
      "   LastUpdateUserID       LastUpdateTime      LastUpdatePage  B_Rudder  \\\n",
      "0                 0  2025/09/15 11:40:19  RealTimeRepost.jsp       NaN   \n",
      "1                 0  2025/09/15 11:42:19  RealTimeRepost.jsp       NaN   \n",
      "2                 0  2025/09/15 11:48:19  RealTimeRepost.jsp       NaN   \n",
      "3                 0  2025/09/15 11:50:19  RealTimeRepost.jsp       NaN   \n",
      "4                 0  2025/09/15 11:54:19  RealTimeRepost.jsp       NaN   \n",
      "\n",
      "   B_Depth B_WindSpeed B_WindAngle  B_RPM  \n",
      "0      NaN      00.1 M       232.0    NaN  \n",
      "1      NaN      00.1 M       232.0    NaN  \n",
      "2      NaN      00.1 M       231.0    NaN  \n",
      "3      NaN      00.6 M       230.0    NaN  \n",
      "4      NaN      02.6 M       226.0    NaN  \n",
      "\n",
      "[5 rows x 46 columns]\n"
     ]
    }
   ],
   "source": [
    "# 我只想畫出477769500這艘船的航線圖，先把其他的洗掉\n",
    "mmsi_target = 477769500\n",
    "df_filtered = df[df['MMSI'] == mmsi_target].copy()\n",
    "print(len(df_filtered))\n",
    "print(df_filtered.head())"
   ]
  },
  {
   "cell_type": "code",
   "execution_count": 6,
   "id": "569a0f39",
   "metadata": {},
   "outputs": [
    {
     "name": "stdout",
     "output_type": "stream",
     "text": [
      "有效data數量約為: 1.0\n"
     ]
    }
   ],
   "source": [
    "print(\"有效data數量約為:\", len(df_filtered)/len(df))"
   ]
  },
  {
   "cell_type": "code",
   "execution_count": 7,
   "id": "cf705fbe",
   "metadata": {},
   "outputs": [
    {
     "name": "stdout",
     "output_type": "stream",
     "text": [
      "                 Lat            Lng\n",
      "count  263812.000000  263812.000000\n",
      "mean       26.857002     123.005259\n",
      "std         3.074700       5.045676\n",
      "min        25.029188     119.479290\n",
      "25%        25.155197     120.273480\n",
      "50%        25.507810     121.389634\n",
      "75%        26.133184     121.391440\n",
      "max        36.123352     139.860230\n"
     ]
    }
   ],
   "source": [
    "df_filtered = df_filtered[\n",
    "    (df_filtered['Lat'] >= -90) & (df_filtered['Lat'] <= 90) &\n",
    "    (df_filtered['Lng'] >= -180) & (df_filtered['Lng'] <= 180)\n",
    "].copy()\n",
    "\n",
    "# 再檢查經緯度是否都合理\n",
    "print(df_filtered[['Lat', 'Lng']].describe())"
   ]
  },
  {
   "cell_type": "code",
   "execution_count": 9,
   "id": "14b98e9d",
   "metadata": {},
   "outputs": [],
   "source": [
    "df_filtered['Lat'] = df_filtered['Lat'].astype(float)\n",
    "df_filtered['Lng'] = df_filtered['Lng'].astype(float)"
   ]
  },
  {
   "cell_type": "code",
   "execution_count": 10,
   "id": "1fd8ef98",
   "metadata": {},
   "outputs": [],
   "source": [
    "df_filtered['CreateTime'] = pd.to_datetime(df_filtered['CreateTime'], errors='coerce')"
   ]
  },
  {
   "cell_type": "code",
   "execution_count": 11,
   "id": "9144aa55",
   "metadata": {},
   "outputs": [],
   "source": [
    "df_filtered = df_filtered.dropna(subset=['Lat', 'Lng', 'CreateTime'])"
   ]
  },
  {
   "cell_type": "code",
   "execution_count": 12,
   "id": "5a7844da",
   "metadata": {},
   "outputs": [],
   "source": [
    "# 為了不讓圖片上線斷掉，將經度[-180, 180] 轉成 [0, 360]\n",
    "df_filtered['Lng_360'] = df_filtered['Lng'] % 360"
   ]
  },
  {
   "cell_type": "code",
   "execution_count": 13,
   "id": "773dbcb3",
   "metadata": {},
   "outputs": [],
   "source": [
    "# 計算地圖中心\n",
    "map_center_lat = df_filtered['Lat'].mean()\n",
    "map_center_lon = df_filtered['Lng_360'].mean()"
   ]
  },
  {
   "cell_type": "code",
   "execution_count": 14,
   "id": "007d7068",
   "metadata": {},
   "outputs": [],
   "source": [
    "df_filtered = df_filtered.sort_values('CreateTime').reset_index(drop=True)"
   ]
  },
  {
   "cell_type": "markdown",
   "id": "8961c6bf",
   "metadata": {},
   "source": [
    "## Trajectory Reconstruction"
   ]
  },
  {
   "cell_type": "code",
   "execution_count": 15,
   "id": "6d687714",
   "metadata": {},
   "outputs": [],
   "source": [
    "m = folium.Map(\n",
    "    location=[map_center_lat, map_center_lon],\n",
    "    zoom_start=4,\n",
    "    tiles='OpenStreetMap'\n",
    ")"
   ]
  },
  {
   "cell_type": "code",
   "execution_count": 16,
   "id": "af0a9a53",
   "metadata": {},
   "outputs": [],
   "source": [
    "import folium\n",
    "\n",
    "coords = df_filtered[['Lat', 'Lng_360']].iloc[::1].values.tolist()  # ::10 可抽樣10倍\n",
    "folium.PolyLine(\n",
    "    coords,\n",
    "    color='blue',\n",
    "    weight=3,\n",
    "    opacity=0.7,\n",
    "    popup=f\"航線點數: {len(coords)}\"\n",
    ").add_to(m)\n",
    "\n",
    "# 起訖點標記\n",
    "\n",
    "if len(coords) > 0:\n",
    "    # 起點\n",
    "    folium.Marker(\n",
    "        location=coords[0],\n",
    "        popup=f\"起點\\n時間: {df_filtered.iloc[0]['CreateTime']}\",\n",
    "        icon=folium.Icon(color='green', icon='play')\n",
    "    ).add_to(m)\n",
    "\n",
    "    # 終點\n",
    "    folium.Marker(\n",
    "        location=coords[-1],\n",
    "        popup=f\"終點\\n時間: {df_filtered.iloc[-1]['CreateTime']}\",\n",
    "        icon=folium.Icon(color='red', icon='stop')\n",
    "    ).add_to(m)"
   ]
  },
  {
   "cell_type": "code",
   "execution_count": 17,
   "id": "7077fb24",
   "metadata": {},
   "outputs": [],
   "source": [
    "html_file = \"ship_trajectory_360.html\"\n",
    "m.save(html_file)"
   ]
  },
  {
   "cell_type": "code",
   "execution_count": 18,
   "id": "ef54d621",
   "metadata": {},
   "outputs": [
    {
     "data": {
      "text/plain": [
       "True"
      ]
     },
     "execution_count": 18,
     "metadata": {},
     "output_type": "execute_result"
    }
   ],
   "source": [
    "# 自動用瀏覽器開啟\n",
    "import webbrowser\n",
    "webbrowser.open('file://' + os.path.realpath(html_file))"
   ]
  },
  {
   "cell_type": "markdown",
   "id": "7e27d538",
   "metadata": {},
   "source": [
    "## DBSCAN clustering"
   ]
  },
  {
   "cell_type": "code",
   "execution_count": 20,
   "id": "4fd12dca",
   "metadata": {},
   "outputs": [],
   "source": [
    "from sklearn.cluster import DBSCAN"
   ]
  },
  {
   "cell_type": "code",
   "execution_count": 21,
   "id": "d2909d7a",
   "metadata": {},
   "outputs": [],
   "source": [
    "from haversine import haversine"
   ]
  },
  {
   "cell_type": "code",
   "execution_count": 22,
   "id": "1c8b990e",
   "metadata": {},
   "outputs": [],
   "source": [
    "import numpy as np"
   ]
  },
  {
   "cell_type": "code",
   "execution_count": 25,
   "id": "ed8e0d0e",
   "metadata": {},
   "outputs": [
    {
     "ename": "MemoryError",
     "evalue": "Unable to allocate 1.38 MiB for an array with shape (181082,) and data type int64",
     "output_type": "error",
     "traceback": [
      "\u001b[1;31m---------------------------------------------------------------------------\u001b[0m",
      "\u001b[1;31mMemoryError\u001b[0m                               Traceback (most recent call last)",
      "Cell \u001b[1;32mIn[25], line 1\u001b[0m\n\u001b[1;32m----> 1\u001b[0m stop_df \u001b[38;5;241m=\u001b[39m \u001b[43mdf_filtered\u001b[49m\u001b[43m[\u001b[49m\u001b[43mdf_filtered\u001b[49m\u001b[43m[\u001b[49m\u001b[38;5;124;43m\"\u001b[39;49m\u001b[38;5;124;43mSog\u001b[39;49m\u001b[38;5;124;43m\"\u001b[39;49m\u001b[43m]\u001b[49m\u001b[43m \u001b[49m\u001b[38;5;241;43m<\u001b[39;49m\u001b[43m \u001b[49m\u001b[38;5;241;43m0.5\u001b[39;49m\u001b[43m]\u001b[49m\u001b[38;5;241m.\u001b[39mcopy()\n",
      "File \u001b[1;32mc:\\Users\\slab\\Desktop\\Slab Project\\Stage2 ETA\\.venv\\lib\\site-packages\\pandas\\core\\frame.py:4098\u001b[0m, in \u001b[0;36mDataFrame.__getitem__\u001b[1;34m(self, key)\u001b[0m\n\u001b[0;32m   4096\u001b[0m \u001b[38;5;66;03m# Do we have a (boolean) 1d indexer?\u001b[39;00m\n\u001b[0;32m   4097\u001b[0m \u001b[38;5;28;01mif\u001b[39;00m com\u001b[38;5;241m.\u001b[39mis_bool_indexer(key):\n\u001b[1;32m-> 4098\u001b[0m     \u001b[38;5;28;01mreturn\u001b[39;00m \u001b[38;5;28;43mself\u001b[39;49m\u001b[38;5;241;43m.\u001b[39;49m\u001b[43m_getitem_bool_array\u001b[49m\u001b[43m(\u001b[49m\u001b[43mkey\u001b[49m\u001b[43m)\u001b[49m\n\u001b[0;32m   4100\u001b[0m \u001b[38;5;66;03m# We are left with two options: a single key, and a collection of keys,\u001b[39;00m\n\u001b[0;32m   4101\u001b[0m \u001b[38;5;66;03m# We interpret tuples as collections only for non-MultiIndex\u001b[39;00m\n\u001b[0;32m   4102\u001b[0m is_single_key \u001b[38;5;241m=\u001b[39m \u001b[38;5;28misinstance\u001b[39m(key, \u001b[38;5;28mtuple\u001b[39m) \u001b[38;5;129;01mor\u001b[39;00m \u001b[38;5;129;01mnot\u001b[39;00m is_list_like(key)\n",
      "File \u001b[1;32mc:\\Users\\slab\\Desktop\\Slab Project\\Stage2 ETA\\.venv\\lib\\site-packages\\pandas\\core\\frame.py:4160\u001b[0m, in \u001b[0;36mDataFrame._getitem_bool_array\u001b[1;34m(self, key)\u001b[0m\n\u001b[0;32m   4157\u001b[0m     \u001b[38;5;28;01mreturn\u001b[39;00m \u001b[38;5;28mself\u001b[39m\u001b[38;5;241m.\u001b[39mcopy(deep\u001b[38;5;241m=\u001b[39m\u001b[38;5;28;01mNone\u001b[39;00m)\n\u001b[0;32m   4159\u001b[0m indexer \u001b[38;5;241m=\u001b[39m key\u001b[38;5;241m.\u001b[39mnonzero()[\u001b[38;5;241m0\u001b[39m]\n\u001b[1;32m-> 4160\u001b[0m \u001b[38;5;28;01mreturn\u001b[39;00m \u001b[38;5;28;43mself\u001b[39;49m\u001b[38;5;241;43m.\u001b[39;49m\u001b[43m_take_with_is_copy\u001b[49m\u001b[43m(\u001b[49m\u001b[43mindexer\u001b[49m\u001b[43m,\u001b[49m\u001b[43m \u001b[49m\u001b[43maxis\u001b[49m\u001b[38;5;241;43m=\u001b[39;49m\u001b[38;5;241;43m0\u001b[39;49m\u001b[43m)\u001b[49m\n",
      "File \u001b[1;32mc:\\Users\\slab\\Desktop\\Slab Project\\Stage2 ETA\\.venv\\lib\\site-packages\\pandas\\core\\generic.py:4172\u001b[0m, in \u001b[0;36mNDFrame._take_with_is_copy\u001b[1;34m(self, indices, axis)\u001b[0m\n\u001b[0;32m   4161\u001b[0m \u001b[38;5;129m@final\u001b[39m\n\u001b[0;32m   4162\u001b[0m \u001b[38;5;28;01mdef\u001b[39;00m\u001b[38;5;250m \u001b[39m\u001b[38;5;21m_take_with_is_copy\u001b[39m(\u001b[38;5;28mself\u001b[39m, indices, axis: Axis \u001b[38;5;241m=\u001b[39m \u001b[38;5;241m0\u001b[39m) \u001b[38;5;241m-\u001b[39m\u001b[38;5;241m>\u001b[39m Self:\n\u001b[0;32m   4163\u001b[0m \u001b[38;5;250m    \u001b[39m\u001b[38;5;124;03m\"\"\"\u001b[39;00m\n\u001b[0;32m   4164\u001b[0m \u001b[38;5;124;03m    Internal version of the `take` method that sets the `_is_copy`\u001b[39;00m\n\u001b[0;32m   4165\u001b[0m \u001b[38;5;124;03m    attribute to keep track of the parent dataframe (using in indexing\u001b[39;00m\n\u001b[1;32m   (...)\u001b[0m\n\u001b[0;32m   4170\u001b[0m \u001b[38;5;124;03m    See the docstring of `take` for full explanation of the parameters.\u001b[39;00m\n\u001b[0;32m   4171\u001b[0m \u001b[38;5;124;03m    \"\"\"\u001b[39;00m\n\u001b[1;32m-> 4172\u001b[0m     result \u001b[38;5;241m=\u001b[39m \u001b[38;5;28;43mself\u001b[39;49m\u001b[38;5;241;43m.\u001b[39;49m\u001b[43mtake\u001b[49m\u001b[43m(\u001b[49m\u001b[43mindices\u001b[49m\u001b[38;5;241;43m=\u001b[39;49m\u001b[43mindices\u001b[49m\u001b[43m,\u001b[49m\u001b[43m \u001b[49m\u001b[43maxis\u001b[49m\u001b[38;5;241;43m=\u001b[39;49m\u001b[43maxis\u001b[49m\u001b[43m)\u001b[49m\n\u001b[0;32m   4173\u001b[0m     \u001b[38;5;66;03m# Maybe set copy if we didn't actually change the index.\u001b[39;00m\n\u001b[0;32m   4174\u001b[0m     \u001b[38;5;28;01mif\u001b[39;00m \u001b[38;5;28mself\u001b[39m\u001b[38;5;241m.\u001b[39mndim \u001b[38;5;241m==\u001b[39m \u001b[38;5;241m2\u001b[39m \u001b[38;5;129;01mand\u001b[39;00m \u001b[38;5;129;01mnot\u001b[39;00m result\u001b[38;5;241m.\u001b[39m_get_axis(axis)\u001b[38;5;241m.\u001b[39mequals(\u001b[38;5;28mself\u001b[39m\u001b[38;5;241m.\u001b[39m_get_axis(axis)):\n",
      "File \u001b[1;32mc:\\Users\\slab\\Desktop\\Slab Project\\Stage2 ETA\\.venv\\lib\\site-packages\\pandas\\core\\generic.py:4152\u001b[0m, in \u001b[0;36mNDFrame.take\u001b[1;34m(self, indices, axis, **kwargs)\u001b[0m\n\u001b[0;32m   4147\u001b[0m     \u001b[38;5;66;03m# We can get here with a slice via DataFrame.__getitem__\u001b[39;00m\n\u001b[0;32m   4148\u001b[0m     indices \u001b[38;5;241m=\u001b[39m np\u001b[38;5;241m.\u001b[39marange(\n\u001b[0;32m   4149\u001b[0m         indices\u001b[38;5;241m.\u001b[39mstart, indices\u001b[38;5;241m.\u001b[39mstop, indices\u001b[38;5;241m.\u001b[39mstep, dtype\u001b[38;5;241m=\u001b[39mnp\u001b[38;5;241m.\u001b[39mintp\n\u001b[0;32m   4150\u001b[0m     )\n\u001b[1;32m-> 4152\u001b[0m new_data \u001b[38;5;241m=\u001b[39m \u001b[38;5;28;43mself\u001b[39;49m\u001b[38;5;241;43m.\u001b[39;49m\u001b[43m_mgr\u001b[49m\u001b[38;5;241;43m.\u001b[39;49m\u001b[43mtake\u001b[49m\u001b[43m(\u001b[49m\n\u001b[0;32m   4153\u001b[0m \u001b[43m    \u001b[49m\u001b[43mindices\u001b[49m\u001b[43m,\u001b[49m\n\u001b[0;32m   4154\u001b[0m \u001b[43m    \u001b[49m\u001b[43maxis\u001b[49m\u001b[38;5;241;43m=\u001b[39;49m\u001b[38;5;28;43mself\u001b[39;49m\u001b[38;5;241;43m.\u001b[39;49m\u001b[43m_get_block_manager_axis\u001b[49m\u001b[43m(\u001b[49m\u001b[43maxis\u001b[49m\u001b[43m)\u001b[49m\u001b[43m,\u001b[49m\n\u001b[0;32m   4155\u001b[0m \u001b[43m    \u001b[49m\u001b[43mverify\u001b[49m\u001b[38;5;241;43m=\u001b[39;49m\u001b[38;5;28;43;01mTrue\u001b[39;49;00m\u001b[43m,\u001b[49m\n\u001b[0;32m   4156\u001b[0m \u001b[43m\u001b[49m\u001b[43m)\u001b[49m\n\u001b[0;32m   4157\u001b[0m \u001b[38;5;28;01mreturn\u001b[39;00m \u001b[38;5;28mself\u001b[39m\u001b[38;5;241m.\u001b[39m_constructor_from_mgr(new_data, axes\u001b[38;5;241m=\u001b[39mnew_data\u001b[38;5;241m.\u001b[39maxes)\u001b[38;5;241m.\u001b[39m__finalize__(\n\u001b[0;32m   4158\u001b[0m     \u001b[38;5;28mself\u001b[39m, method\u001b[38;5;241m=\u001b[39m\u001b[38;5;124m\"\u001b[39m\u001b[38;5;124mtake\u001b[39m\u001b[38;5;124m\"\u001b[39m\n\u001b[0;32m   4159\u001b[0m )\n",
      "File \u001b[1;32mc:\\Users\\slab\\Desktop\\Slab Project\\Stage2 ETA\\.venv\\lib\\site-packages\\pandas\\core\\internals\\managers.py:893\u001b[0m, in \u001b[0;36mBaseBlockManager.take\u001b[1;34m(self, indexer, axis, verify)\u001b[0m\n\u001b[0;32m    890\u001b[0m n \u001b[38;5;241m=\u001b[39m \u001b[38;5;28mself\u001b[39m\u001b[38;5;241m.\u001b[39mshape[axis]\n\u001b[0;32m    891\u001b[0m indexer \u001b[38;5;241m=\u001b[39m maybe_convert_indices(indexer, n, verify\u001b[38;5;241m=\u001b[39mverify)\n\u001b[1;32m--> 893\u001b[0m new_labels \u001b[38;5;241m=\u001b[39m \u001b[38;5;28;43mself\u001b[39;49m\u001b[38;5;241;43m.\u001b[39;49m\u001b[43maxes\u001b[49m\u001b[43m[\u001b[49m\u001b[43maxis\u001b[49m\u001b[43m]\u001b[49m\u001b[38;5;241;43m.\u001b[39;49m\u001b[43mtake\u001b[49m\u001b[43m(\u001b[49m\u001b[43mindexer\u001b[49m\u001b[43m)\u001b[49m\n\u001b[0;32m    894\u001b[0m \u001b[38;5;28;01mreturn\u001b[39;00m \u001b[38;5;28mself\u001b[39m\u001b[38;5;241m.\u001b[39mreindex_indexer(\n\u001b[0;32m    895\u001b[0m     new_axis\u001b[38;5;241m=\u001b[39mnew_labels,\n\u001b[0;32m    896\u001b[0m     indexer\u001b[38;5;241m=\u001b[39mindexer,\n\u001b[1;32m   (...)\u001b[0m\n\u001b[0;32m    899\u001b[0m     copy\u001b[38;5;241m=\u001b[39m\u001b[38;5;28;01mNone\u001b[39;00m,\n\u001b[0;32m    900\u001b[0m )\n",
      "File \u001b[1;32mc:\\Users\\slab\\Desktop\\Slab Project\\Stage2 ETA\\.venv\\lib\\site-packages\\pandas\\core\\indexes\\range.py:1178\u001b[0m, in \u001b[0;36mRangeIndex.take\u001b[1;34m(self, indices, axis, allow_fill, fill_value, **kwargs)\u001b[0m\n\u001b[0;32m   1174\u001b[0m \u001b[38;5;28;01mif\u001b[39;00m ind_min \u001b[38;5;241m<\u001b[39m \u001b[38;5;241m-\u001b[39m\u001b[38;5;28mlen\u001b[39m(\u001b[38;5;28mself\u001b[39m):\n\u001b[0;32m   1175\u001b[0m     \u001b[38;5;28;01mraise\u001b[39;00m \u001b[38;5;167;01mIndexError\u001b[39;00m(\n\u001b[0;32m   1176\u001b[0m         \u001b[38;5;124mf\u001b[39m\u001b[38;5;124m\"\u001b[39m\u001b[38;5;124mindex \u001b[39m\u001b[38;5;132;01m{\u001b[39;00mind_min\u001b[38;5;132;01m}\u001b[39;00m\u001b[38;5;124m is out of bounds for axis 0 with size \u001b[39m\u001b[38;5;132;01m{\u001b[39;00m\u001b[38;5;28mlen\u001b[39m(\u001b[38;5;28mself\u001b[39m)\u001b[38;5;132;01m}\u001b[39;00m\u001b[38;5;124m\"\u001b[39m\n\u001b[0;32m   1177\u001b[0m     )\n\u001b[1;32m-> 1178\u001b[0m taken \u001b[38;5;241m=\u001b[39m \u001b[43mindices\u001b[49m\u001b[38;5;241;43m.\u001b[39;49m\u001b[43mastype\u001b[49m\u001b[43m(\u001b[49m\u001b[38;5;28;43mself\u001b[39;49m\u001b[38;5;241;43m.\u001b[39;49m\u001b[43mdtype\u001b[49m\u001b[43m,\u001b[49m\u001b[43m \u001b[49m\u001b[43mcasting\u001b[49m\u001b[38;5;241;43m=\u001b[39;49m\u001b[38;5;124;43m\"\u001b[39;49m\u001b[38;5;124;43msafe\u001b[39;49m\u001b[38;5;124;43m\"\u001b[39;49m\u001b[43m)\u001b[49m\n\u001b[0;32m   1179\u001b[0m \u001b[38;5;28;01mif\u001b[39;00m ind_min \u001b[38;5;241m<\u001b[39m \u001b[38;5;241m0\u001b[39m:\n\u001b[0;32m   1180\u001b[0m     taken \u001b[38;5;241m%\u001b[39m\u001b[38;5;241m=\u001b[39m \u001b[38;5;28mlen\u001b[39m(\u001b[38;5;28mself\u001b[39m)\n",
      "\u001b[1;31mMemoryError\u001b[0m: Unable to allocate 1.38 MiB for an array with shape (181082,) and data type int64"
     ]
    }
   ],
   "source": [
    "stop_df = df_filtered[df_filtered[\"Sog\"] < 0.5].copy()"
   ]
  },
  {
   "cell_type": "code",
   "execution_count": 24,
   "id": "3424b380",
   "metadata": {},
   "outputs": [
    {
     "ename": "MemoryError",
     "evalue": "",
     "output_type": "error",
     "traceback": [
      "\u001b[1;31m---------------------------------------------------------------------------\u001b[0m",
      "\u001b[1;31mMemoryError\u001b[0m                               Traceback (most recent call last)",
      "Cell \u001b[1;32mIn[24], line 14\u001b[0m\n\u001b[0;32m     10\u001b[0m coords_rad \u001b[38;5;241m=\u001b[39m np\u001b[38;5;241m.\u001b[39mradians(coords)\n\u001b[0;32m     12\u001b[0m \u001b[38;5;66;03m# DBSCAN 聚類\u001b[39;00m\n\u001b[0;32m     13\u001b[0m \u001b[38;5;66;03m# eps 的單位是弧度，0.01 弧度約 0.01*6371km ≈ 63km，視需求調整\u001b[39;00m\n\u001b[1;32m---> 14\u001b[0m db \u001b[38;5;241m=\u001b[39m \u001b[43mDBSCAN\u001b[49m\u001b[43m(\u001b[49m\u001b[43meps\u001b[49m\u001b[38;5;241;43m=\u001b[39;49m\u001b[38;5;241;43m0.001\u001b[39;49m\u001b[43m,\u001b[49m\u001b[43m \u001b[49m\u001b[43mmin_samples\u001b[49m\u001b[38;5;241;43m=\u001b[39;49m\u001b[38;5;241;43m10\u001b[39;49m\u001b[43m,\u001b[49m\u001b[43m \u001b[49m\u001b[43mmetric\u001b[49m\u001b[38;5;241;43m=\u001b[39;49m\u001b[38;5;124;43m'\u001b[39;49m\u001b[38;5;124;43mhaversine\u001b[39;49m\u001b[38;5;124;43m'\u001b[39;49m\u001b[43m)\u001b[49m\u001b[38;5;241;43m.\u001b[39;49m\u001b[43mfit\u001b[49m\u001b[43m(\u001b[49m\u001b[43mcoords_rad\u001b[49m\u001b[43m)\u001b[49m\n\u001b[0;32m     15\u001b[0m stop_df[\u001b[38;5;124m'\u001b[39m\u001b[38;5;124mcluster\u001b[39m\u001b[38;5;124m'\u001b[39m] \u001b[38;5;241m=\u001b[39m db\u001b[38;5;241m.\u001b[39mlabels_\n\u001b[0;32m     17\u001b[0m \u001b[38;5;66;03m# 計算每個 cluster 的中心與半徑\u001b[39;00m\n",
      "File \u001b[1;32mc:\\Users\\slab\\Desktop\\Slab Project\\Stage2 ETA\\.venv\\lib\\site-packages\\sklearn\\base.py:1365\u001b[0m, in \u001b[0;36m_fit_context.<locals>.decorator.<locals>.wrapper\u001b[1;34m(estimator, *args, **kwargs)\u001b[0m\n\u001b[0;32m   1358\u001b[0m     estimator\u001b[38;5;241m.\u001b[39m_validate_params()\n\u001b[0;32m   1360\u001b[0m \u001b[38;5;28;01mwith\u001b[39;00m config_context(\n\u001b[0;32m   1361\u001b[0m     skip_parameter_validation\u001b[38;5;241m=\u001b[39m(\n\u001b[0;32m   1362\u001b[0m         prefer_skip_nested_validation \u001b[38;5;129;01mor\u001b[39;00m global_skip_validation\n\u001b[0;32m   1363\u001b[0m     )\n\u001b[0;32m   1364\u001b[0m ):\n\u001b[1;32m-> 1365\u001b[0m     \u001b[38;5;28;01mreturn\u001b[39;00m fit_method(estimator, \u001b[38;5;241m*\u001b[39margs, \u001b[38;5;241m*\u001b[39m\u001b[38;5;241m*\u001b[39mkwargs)\n",
      "File \u001b[1;32mc:\\Users\\slab\\Desktop\\Slab Project\\Stage2 ETA\\.venv\\lib\\site-packages\\sklearn\\cluster\\_dbscan.py:421\u001b[0m, in \u001b[0;36mDBSCAN.fit\u001b[1;34m(self, X, y, sample_weight)\u001b[0m\n\u001b[0;32m    419\u001b[0m neighbors_model\u001b[38;5;241m.\u001b[39mfit(X)\n\u001b[0;32m    420\u001b[0m \u001b[38;5;66;03m# This has worst case O(n^2) memory complexity\u001b[39;00m\n\u001b[1;32m--> 421\u001b[0m neighborhoods \u001b[38;5;241m=\u001b[39m \u001b[43mneighbors_model\u001b[49m\u001b[38;5;241;43m.\u001b[39;49m\u001b[43mradius_neighbors\u001b[49m\u001b[43m(\u001b[49m\u001b[43mX\u001b[49m\u001b[43m,\u001b[49m\u001b[43m \u001b[49m\u001b[43mreturn_distance\u001b[49m\u001b[38;5;241;43m=\u001b[39;49m\u001b[38;5;28;43;01mFalse\u001b[39;49;00m\u001b[43m)\u001b[49m\n\u001b[0;32m    423\u001b[0m \u001b[38;5;28;01mif\u001b[39;00m sample_weight \u001b[38;5;129;01mis\u001b[39;00m \u001b[38;5;28;01mNone\u001b[39;00m:\n\u001b[0;32m    424\u001b[0m     n_neighbors \u001b[38;5;241m=\u001b[39m np\u001b[38;5;241m.\u001b[39marray([\u001b[38;5;28mlen\u001b[39m(neighbors) \u001b[38;5;28;01mfor\u001b[39;00m neighbors \u001b[38;5;129;01min\u001b[39;00m neighborhoods])\n",
      "File \u001b[1;32mc:\\Users\\slab\\Desktop\\Slab Project\\Stage2 ETA\\.venv\\lib\\site-packages\\sklearn\\neighbors\\_base.py:1277\u001b[0m, in \u001b[0;36mRadiusNeighborsMixin.radius_neighbors\u001b[1;34m(self, X, radius, return_distance, sort_results)\u001b[0m\n\u001b[0;32m   1275\u001b[0m n_jobs \u001b[38;5;241m=\u001b[39m effective_n_jobs(\u001b[38;5;28mself\u001b[39m\u001b[38;5;241m.\u001b[39mn_jobs)\n\u001b[0;32m   1276\u001b[0m delayed_query \u001b[38;5;241m=\u001b[39m delayed(\u001b[38;5;28mself\u001b[39m\u001b[38;5;241m.\u001b[39m_tree\u001b[38;5;241m.\u001b[39mquery_radius)\n\u001b[1;32m-> 1277\u001b[0m chunked_results \u001b[38;5;241m=\u001b[39m \u001b[43mParallel\u001b[49m\u001b[43m(\u001b[49m\u001b[43mn_jobs\u001b[49m\u001b[43m,\u001b[49m\u001b[43m \u001b[49m\u001b[43mprefer\u001b[49m\u001b[38;5;241;43m=\u001b[39;49m\u001b[38;5;124;43m\"\u001b[39;49m\u001b[38;5;124;43mthreads\u001b[39;49m\u001b[38;5;124;43m\"\u001b[39;49m\u001b[43m)\u001b[49m\u001b[43m(\u001b[49m\n\u001b[0;32m   1278\u001b[0m \u001b[43m    \u001b[49m\u001b[43mdelayed_query\u001b[49m\u001b[43m(\u001b[49m\u001b[43mX\u001b[49m\u001b[43m[\u001b[49m\u001b[43ms\u001b[49m\u001b[43m]\u001b[49m\u001b[43m,\u001b[49m\u001b[43m \u001b[49m\u001b[43mradius\u001b[49m\u001b[43m,\u001b[49m\u001b[43m \u001b[49m\u001b[43mreturn_distance\u001b[49m\u001b[43m,\u001b[49m\u001b[43m \u001b[49m\u001b[43msort_results\u001b[49m\u001b[38;5;241;43m=\u001b[39;49m\u001b[43msort_results\u001b[49m\u001b[43m)\u001b[49m\n\u001b[0;32m   1279\u001b[0m \u001b[43m    \u001b[49m\u001b[38;5;28;43;01mfor\u001b[39;49;00m\u001b[43m \u001b[49m\u001b[43ms\u001b[49m\u001b[43m \u001b[49m\u001b[38;5;129;43;01min\u001b[39;49;00m\u001b[43m \u001b[49m\u001b[43mgen_even_slices\u001b[49m\u001b[43m(\u001b[49m\u001b[43mX\u001b[49m\u001b[38;5;241;43m.\u001b[39;49m\u001b[43mshape\u001b[49m\u001b[43m[\u001b[49m\u001b[38;5;241;43m0\u001b[39;49m\u001b[43m]\u001b[49m\u001b[43m,\u001b[49m\u001b[43m \u001b[49m\u001b[43mn_jobs\u001b[49m\u001b[43m)\u001b[49m\n\u001b[0;32m   1280\u001b[0m \u001b[43m\u001b[49m\u001b[43m)\u001b[49m\n\u001b[0;32m   1281\u001b[0m \u001b[38;5;28;01mif\u001b[39;00m return_distance:\n\u001b[0;32m   1282\u001b[0m     neigh_ind, neigh_dist \u001b[38;5;241m=\u001b[39m \u001b[38;5;28mtuple\u001b[39m(\u001b[38;5;28mzip\u001b[39m(\u001b[38;5;241m*\u001b[39mchunked_results))\n",
      "File \u001b[1;32mc:\\Users\\slab\\Desktop\\Slab Project\\Stage2 ETA\\.venv\\lib\\site-packages\\sklearn\\utils\\parallel.py:82\u001b[0m, in \u001b[0;36mParallel.__call__\u001b[1;34m(self, iterable)\u001b[0m\n\u001b[0;32m     73\u001b[0m warning_filters \u001b[38;5;241m=\u001b[39m warnings\u001b[38;5;241m.\u001b[39mfilters\n\u001b[0;32m     74\u001b[0m iterable_with_config_and_warning_filters \u001b[38;5;241m=\u001b[39m (\n\u001b[0;32m     75\u001b[0m     (\n\u001b[0;32m     76\u001b[0m         _with_config_and_warning_filters(delayed_func, config, warning_filters),\n\u001b[1;32m   (...)\u001b[0m\n\u001b[0;32m     80\u001b[0m     \u001b[38;5;28;01mfor\u001b[39;00m delayed_func, args, kwargs \u001b[38;5;129;01min\u001b[39;00m iterable\n\u001b[0;32m     81\u001b[0m )\n\u001b[1;32m---> 82\u001b[0m \u001b[38;5;28;01mreturn\u001b[39;00m \u001b[38;5;28;43msuper\u001b[39;49m\u001b[43m(\u001b[49m\u001b[43m)\u001b[49m\u001b[38;5;241;43m.\u001b[39;49m\u001b[38;5;21;43m__call__\u001b[39;49m\u001b[43m(\u001b[49m\u001b[43miterable_with_config_and_warning_filters\u001b[49m\u001b[43m)\u001b[49m\n",
      "File \u001b[1;32mc:\\Users\\slab\\Desktop\\Slab Project\\Stage2 ETA\\.venv\\lib\\site-packages\\joblib\\parallel.py:1986\u001b[0m, in \u001b[0;36mParallel.__call__\u001b[1;34m(self, iterable)\u001b[0m\n\u001b[0;32m   1984\u001b[0m     output \u001b[38;5;241m=\u001b[39m \u001b[38;5;28mself\u001b[39m\u001b[38;5;241m.\u001b[39m_get_sequential_output(iterable)\n\u001b[0;32m   1985\u001b[0m     \u001b[38;5;28mnext\u001b[39m(output)\n\u001b[1;32m-> 1986\u001b[0m     \u001b[38;5;28;01mreturn\u001b[39;00m output \u001b[38;5;28;01mif\u001b[39;00m \u001b[38;5;28mself\u001b[39m\u001b[38;5;241m.\u001b[39mreturn_generator \u001b[38;5;28;01melse\u001b[39;00m \u001b[38;5;28;43mlist\u001b[39;49m\u001b[43m(\u001b[49m\u001b[43moutput\u001b[49m\u001b[43m)\u001b[49m\n\u001b[0;32m   1988\u001b[0m \u001b[38;5;66;03m# Let's create an ID that uniquely identifies the current call. If the\u001b[39;00m\n\u001b[0;32m   1989\u001b[0m \u001b[38;5;66;03m# call is interrupted early and that the same instance is immediately\u001b[39;00m\n\u001b[0;32m   1990\u001b[0m \u001b[38;5;66;03m# reused, this id will be used to prevent workers that were\u001b[39;00m\n\u001b[0;32m   1991\u001b[0m \u001b[38;5;66;03m# concurrently finalizing a task from the previous call to run the\u001b[39;00m\n\u001b[0;32m   1992\u001b[0m \u001b[38;5;66;03m# callback.\u001b[39;00m\n\u001b[0;32m   1993\u001b[0m \u001b[38;5;28;01mwith\u001b[39;00m \u001b[38;5;28mself\u001b[39m\u001b[38;5;241m.\u001b[39m_lock:\n",
      "File \u001b[1;32mc:\\Users\\slab\\Desktop\\Slab Project\\Stage2 ETA\\.venv\\lib\\site-packages\\joblib\\parallel.py:1914\u001b[0m, in \u001b[0;36mParallel._get_sequential_output\u001b[1;34m(self, iterable)\u001b[0m\n\u001b[0;32m   1912\u001b[0m \u001b[38;5;28mself\u001b[39m\u001b[38;5;241m.\u001b[39mn_dispatched_batches \u001b[38;5;241m+\u001b[39m\u001b[38;5;241m=\u001b[39m \u001b[38;5;241m1\u001b[39m\n\u001b[0;32m   1913\u001b[0m \u001b[38;5;28mself\u001b[39m\u001b[38;5;241m.\u001b[39mn_dispatched_tasks \u001b[38;5;241m+\u001b[39m\u001b[38;5;241m=\u001b[39m \u001b[38;5;241m1\u001b[39m\n\u001b[1;32m-> 1914\u001b[0m res \u001b[38;5;241m=\u001b[39m func(\u001b[38;5;241m*\u001b[39margs, \u001b[38;5;241m*\u001b[39m\u001b[38;5;241m*\u001b[39mkwargs)\n\u001b[0;32m   1915\u001b[0m \u001b[38;5;28mself\u001b[39m\u001b[38;5;241m.\u001b[39mn_completed_tasks \u001b[38;5;241m+\u001b[39m\u001b[38;5;241m=\u001b[39m \u001b[38;5;241m1\u001b[39m\n\u001b[0;32m   1916\u001b[0m \u001b[38;5;28mself\u001b[39m\u001b[38;5;241m.\u001b[39mprint_progress()\n",
      "File \u001b[1;32mc:\\Users\\slab\\Desktop\\Slab Project\\Stage2 ETA\\.venv\\lib\\site-packages\\sklearn\\utils\\parallel.py:147\u001b[0m, in \u001b[0;36m_FuncWrapper.__call__\u001b[1;34m(self, *args, **kwargs)\u001b[0m\n\u001b[0;32m    145\u001b[0m \u001b[38;5;28;01mwith\u001b[39;00m config_context(\u001b[38;5;241m*\u001b[39m\u001b[38;5;241m*\u001b[39mconfig), warnings\u001b[38;5;241m.\u001b[39mcatch_warnings():\n\u001b[0;32m    146\u001b[0m     warnings\u001b[38;5;241m.\u001b[39mfilters \u001b[38;5;241m=\u001b[39m warning_filters\n\u001b[1;32m--> 147\u001b[0m     \u001b[38;5;28;01mreturn\u001b[39;00m \u001b[38;5;28mself\u001b[39m\u001b[38;5;241m.\u001b[39mfunction(\u001b[38;5;241m*\u001b[39margs, \u001b[38;5;241m*\u001b[39m\u001b[38;5;241m*\u001b[39mkwargs)\n",
      "File \u001b[1;32msklearn/neighbors/_binary_tree.pxi:1431\u001b[0m, in \u001b[0;36msklearn.neighbors._ball_tree.BinaryTree64.query_radius\u001b[1;34m()\u001b[0m\n",
      "File \u001b[1;32msklearn/neighbors/_binary_tree.pxi:1384\u001b[0m, in \u001b[0;36msklearn.neighbors._ball_tree.BinaryTree64.query_radius\u001b[1;34m()\u001b[0m\n",
      "\u001b[1;31mMemoryError\u001b[0m: "
     ]
    }
   ],
   "source": [
    "## DBSCAN clustering for single ship\n",
    "# 假設 Sog 欄位存在，可以篩選停泊點\n",
    "stop_df = df_filtered[df_filtered[\"Sog\"] < 0.5].copy()\n",
    "\n",
    "if stop_df.empty:\n",
    "    print(\"沒有偵測到停泊點\")\n",
    "else:\n",
    "    # DBSCAN 需要經緯度轉成弧度\n",
    "    coords = stop_df[['Lat', 'Lng_360']].to_numpy()\n",
    "    coords_rad = np.radians(coords)\n",
    "\n",
    "    # DBSCAN 聚類\n",
    "    # eps 的單位是弧度，0.01 弧度約 0.01*6371km ≈ 63km，視需求調整\n",
    "    db = DBSCAN(eps=0.001, min_samples=10, metric='haversine').fit(coords_rad)\n",
    "    stop_df['cluster'] = db.labels_\n",
    "\n",
    "    # 計算每個 cluster 的中心與半徑\n",
    "    port_list = []\n",
    "    for cluster_id in stop_df['cluster'].unique():\n",
    "        if cluster_id == -1:\n",
    "            continue  # 忽略噪聲點\n",
    "\n",
    "        cluster_points = stop_df[stop_df['cluster'] == cluster_id][['Lat', 'Lng_360']]\n",
    "        center_lat = cluster_points['Lat'].mean()\n",
    "        center_lon = cluster_points['Lng_360'].mean()\n",
    "\n",
    "        # 半徑：到中心最遠距離\n",
    "        distances = cluster_points.apply(\n",
    "            lambda row: haversine((center_lat, center_lon), (row['Lat'], row['Lng_360'])),\n",
    "            axis=1\n",
    "        )\n",
    "        radius_km = distances.max()\n",
    "\n",
    "        port_list.append({\n",
    "            'MMSI': mmsi_target,\n",
    "            'cluster': cluster_id,\n",
    "            'lat': center_lat,\n",
    "            'lon': center_lon,\n",
    "            'radius_km': radius_km\n",
    "        })\n",
    "\n",
    "    # 合併成 DataFrame\n",
    "    port_df = pd.DataFrame(port_list)\n",
    "    print(f\"共偵測到 {port_df.shape[0]} 個停泊點 / 港口\")\n",
    "    print(port_df.head())\n"
   ]
  },
  {
   "cell_type": "code",
   "execution_count": null,
   "id": "4430b32e",
   "metadata": {},
   "outputs": [],
   "source": [
    "# 假設 cleaned_data 已經有經緯度清洗完成的所有船舶資料\n",
    "port_list = []\n",
    "\n",
    "for df_ship in cleaned_data:\n",
    "    device_id = df_ship[\"DeviceID\"].iloc[0]  # 取得船舶 ID\n",
    "    \n",
    "    # 篩選停泊點（假設 SOG 欄位存在）\n",
    "    stop_df = df_ship[df_ship[\"Sog\"] < 0.5].copy()\n",
    "    \n",
    "    if stop_df.empty:\n",
    "        continue  # 沒有停泊資料就跳過\n",
    "    \n",
    "    # 取經緯度\n",
    "    coords = stop_df[['Lat', 'Long']].to_numpy()\n",
    "    coords_rad = np.radians(coords)  # DBSCAN 使用 haversine 需轉成弧度\n",
    "    \n",
    "    # DBSCAN 聚類\n",
    "    db = DBSCAN(eps=0.01, min_samples=10, metric='haversine').fit(coords_rad)\n",
    "    stop_df['cluster'] = db.labels_\n",
    "    \n",
    "    # 計算每個 cluster 的中心與半徑\n",
    "    for cluster_id in stop_df['cluster'].unique():\n",
    "        if cluster_id == -1:\n",
    "            continue  # 忽略噪聲點\n",
    "        \n",
    "        cluster_points = stop_df[stop_df['cluster']==cluster_id][['Lat','Long']]\n",
    "        center_lat = cluster_points['Lat'].mean()\n",
    "        center_lon = cluster_points['Long'].mean()\n",
    "        \n",
    "        # 半徑：到中心最遠距離\n",
    "        distances = cluster_points.apply(lambda row: haversine((center_lat, center_lon), (row['Lat'], row['Long'])), axis=1)\n",
    "        radius_km = distances.max()\n",
    "        \n",
    "        port_list.append({\n",
    "            'DeviceID': device_id,\n",
    "            'cluster': cluster_id,\n",
    "            'lat': center_lat,\n",
    "            'lon': center_lon,\n",
    "            'radius_km': radius_km\n",
    "        })\n",
    "\n",
    "# 合併成 DataFrame\n",
    "port_df = pd.DataFrame(port_list)\n",
    "print(f\"共偵測到 {port_df.shape[0]} 個港口\")\n",
    "print(port_df.head())"
   ]
  }
 ],
 "metadata": {
  "kernelspec": {
   "display_name": ".venv",
   "language": "python",
   "name": "python3"
  },
  "language_info": {
   "codemirror_mode": {
    "name": "ipython",
    "version": 3
   },
   "file_extension": ".py",
   "mimetype": "text/x-python",
   "name": "python",
   "nbconvert_exporter": "python",
   "pygments_lexer": "ipython3",
   "version": "3.10.0"
  }
 },
 "nbformat": 4,
 "nbformat_minor": 5
}
